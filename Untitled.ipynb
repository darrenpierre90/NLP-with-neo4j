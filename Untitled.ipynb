{
 "cells": [
  {
   "cell_type": "code",
   "execution_count": 7,
   "metadata": {},
   "outputs": [],
   "source": [
    "import json \n",
    "import re \n",
    "exp='(https?:\\/\\/(?:www\\.|(?!www))[a-zA-Z0-9][a-zA-Z0-9-]+[a-zA-Z0-9]\\.[^\\s]{2,}|www\\.[a-zA-Z0-9][a-zA-Z0-9-]+[a-zA-Z0-9]\\.[^\\s]{2,}|https?:\\/\\/(?:www\\.|(?!www))[a-zA-Z0-9]+\\.[^\\s]{2,}|www\\.[a-zA-Z0-9]+\\.[^\\s]{2,})'\n",
    "with open('articles.json') as file:\n",
    "    datastore = json.load(file)\n",
    "    messages= datastore['messages']\n",
    "    listOfLinks= list()\n",
    "    \n",
    "    for msg in messages:\n",
    "        links = re.findall(exp, msg['text'])\n",
    "        if len(links) > 0 :\n",
    "            listOfLinks+=links\n",
    "            \n",
    "            \n",
    "            \n",
    "        \n"
   ]
  },
  {
   "cell_type": "code",
   "execution_count": 8,
   "metadata": {},
   "outputs": [
    {
     "name": "stdout",
     "output_type": "stream",
     "text": [
      "https://elearninginfographics.com/the-myth-of-learning-styles-infographic/>\n",
      "https://digital.canada.ca/2019/07/23/so-what-exactly-is-a-product-manager-anyway/>\n",
      "https://www.shiftelearning.com/blog/improving-knowledge-transfer>\n",
      "https://mobilesyrup.com/2019/07/22/apple-watch-series-4-ecg-app-available-canada/>\n",
      "https://www.cbc.ca/news/canada/ottawa/phoenix-psac-union-cash-settlement-1.5217474?utm_source=share&amp;utm_medium=ios_app>\n",
      "https://apple.news/AZKZJB92TSNysbkemHJzw5Q>\n",
      "https://www.darkreading.com/risk/german-schools-ban-office-365-cite-privacy-concerns/d/d-id/1335239?_mc=NL_DR_EDT_DR_daily_20190715&amp;cid=NL_DR_EDT_DR_daily_20190715&amp;elq_mid=91940&amp;elq_cid=22621059>\n",
      "https://blog.growthbot.org/chatbots-were-the-next-big-thing-what-happened>\n",
      "https://9to5mac.com/2019/07/10/zoom-apple-macos-update/>\n",
      "https://www.cnn.com/2019/07/11/tech/amazon-retraining-workers/index.html>\n",
      "https://dfedigital.blog.gov.uk/2019/07/08/culture-is-our-strategy/>\n",
      "https://www.canada.ca/en/government/system/digital-government/living-digital.html>.\n",
      "https://docs.google.com/document/d/1cRJYAUtUSMactks3GsvlbQrA12W02zmyFbBnxXH55Ig/edit?usp=sharing>.\n",
      "https://airtable.com/shrhxO1SMgk3eM6Pb>,\n",
      "https://about.gitlab.com/company/culture/all-remote/resources/>\n",
      "http://outsideeight.com/index.php/2019/06/26/out-of-your-vulnerabilities-will-come-your-strength/>\n",
      "https://apple.news/A4T0DwnGHRs6LjPZCZ0S0xg>\n",
      "https://www.vice.com/en_us/article/a3aaqp/mit-device-uses-wifi-to-see-through-walls-and-track-your-movements>\n",
      "https://www.mckinsey.com/featured-insights/artificial-intelligence/tackling-bias-in-artificial-intelligence-and-in-humans>\n",
      "https://gds.blog.gov.uk/2019/06/21/goodbye-gds-hello-world/>\n",
      "https://medium.com/oneteamgov/nesta-radical-futures-brief-f3b8329be516>\n",
      "https://medium.com/fwd50/fwd50-2019-content-survey-1725006cb129>\n",
      "http://publish.illinois.edu/glherman/files/2016/03/2010-SIGCSE-Programming-Misconceptions.pdf>\n",
      "https://sloanreview.mit.edu/projects/accelerating-digital-innovation-inside-and-out/?utm_medium=email&amp;utm_source=newsletter&amp;utm_campaign=dlrpt2019&amp;utm_content=headerA>\n",
      "https://www.journaldequebec.com/2019/06/18/lecole-de-programmation-gratuite-cherche-un-local-dans-saint-roch>\n",
      "https://www.theguardian.com/lifeandstyle/2019/jun/14/the-mindfulness-conspiracy-capitalist-spirituality>\n",
      "https://www.youtube.com/watch?v=pS-Z43Wz638>\n",
      "https://ottawacitizen.com/opinion/columnists/baltacioglu-advice-from-an-immigrant-to-carleton-university-grads>\n",
      "https://www.niemanlab.org/2019/06/the-new-york-times-has-a-course-to-teach-its-reporters-data-skills-and-now-theyve-open-sourced-it/>\n",
      "https://jfgagne.ai/talent-2019/>\n",
      "https://apolitical.co/solution_article/importance-of-early-engagement/>\n",
      "https://obj.ca/article/op-ed-new-government-procurement-projects-risk-adding-burdens-suppliers>\n",
      "https://ottawacitizen.com/news/local-news/federal-government-opens-2-of-5-alternative-work-hubs-for-public-servants>\n",
      "https://medium.com/xfn-blog/the-six-month-hypothesis-d764016fa931>\n",
      "https://quest.mit.edu>\n",
      "https://tinyurl.com/y4awred5>\n",
      "https://www.cifar.ca/cifarnews/2019/05/29/ai-futures-policy-labs-engage-policy-leaders-in-understanding-the-future-policy-implications-of-ai>\n",
      "https://www.ivey.uwo.ca/leadership/for-leaders/leadership-blogs/2019/04/character-your-most-powerful-differentiating-and-controllable-leadership-strength/>\n",
      "https://www.cbc.ca/news/politics/facebook-job-ads-microtargeting-1.5153463>\n",
      "https://www.journaldemontreal.com/2019/05/27/amazon-accuse-de-faire-du--lobbyisme-cache--par-les-syndiques-de-letat>\n",
      "https://www.vice.com/en_us/article/kzdp5v/police-in-canada-are-tracking-peoples-negative-behavior-in-a-risk-database>\n",
      "https://www.mckinsey.com/business-functions/organization/our-insights/the-journey-to-an-agile-organization>\n",
      "https://medium.com/@charmedquark/australias-design-capability-gap-how-it-hurts-organisations-how-to-avoid-hiring-the-wrong-34699aa83087>\n",
      "https://onezero.medium.com/one-inventors-race-to-treat-parkinson-s-with-an-app-f2bf197ee70>\n",
      "https://hbr.org/2007/09/performing-a-project-premortem>\n",
      "http://services.google.com/fh/files/blogs/distributedworkplaybooks.pdf>\n",
      "https://medium.com/@cassierobinson/what-were-learning-about-how-the-sector-understands-digital-2ef0a07c2a68>\n",
      "https://medium.com/doteveryone/what-a-digital-organisation-looks-like-82426a210ab8>\n",
      "http://tiny.cc/mzvz6y>\n",
      "https://view.pagetiger.com/LearningTechnologiesEMagazine/issue-13>\n",
      "https://hbr.org/2018/03/what-happens-when-data-scientists-and-designers-work-together>\n",
      "https://dash.harvard.edu/bitstream/handle/1/34390353/w6gov-18-LATEX.pdf?sequence=1&amp;isAllowed=y>\n",
      "http://www.learningsolutionsmag.com/articles/vr-training-ideal-for-dangerous-or-impossible-experiences>\n",
      "https://www.chieflearningofficer.com/2019/05/01/make-corporate-learning-more-relevant-with-ai/>\n"
     ]
    }
   ],
   "source": [
    "for x in listOfLinks:\n",
    "    print(x)"
   ]
  },
  {
   "cell_type": "code",
   "execution_count": null,
   "metadata": {},
   "outputs": [],
   "source": []
  }
 ],
 "metadata": {
  "kernelspec": {
   "display_name": "Python 3",
   "language": "python",
   "name": "python3"
  },
  "language_info": {
   "codemirror_mode": {
    "name": "ipython",
    "version": 3
   },
   "file_extension": ".py",
   "mimetype": "text/x-python",
   "name": "python",
   "nbconvert_exporter": "python",
   "pygments_lexer": "ipython3",
   "version": "3.6.8"
  }
 },
 "nbformat": 4,
 "nbformat_minor": 2
}
